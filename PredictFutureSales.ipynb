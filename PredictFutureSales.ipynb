{
 "cells": [
  {
   "cell_type": "code",
   "execution_count": null,
   "metadata": {},
   "outputs": [],
   "source": [
    "%env KAGGLE_USERNAME=matteocasadei\n",
    "%env KAGGLE_KEY=33d101d14b0da5aa3d36710b8442fee1"
   ]
  },
  {
   "cell_type": "code",
   "execution_count": null,
   "metadata": {},
   "outputs": [],
   "source": [
    "!kaggle competitions download -c competitive-data-science-predict-future-sales"
   ]
  },
  {
   "cell_type": "code",
   "execution_count": null,
   "metadata": {
    "collapsed": true
   },
   "outputs": [],
   "source": [
    "!gunzip sales_train.csv.gz\n",
    "!gunzip test.csv.gz\n",
    "!gunzip sample_submission.csv.gz"
   ]
  },
  {
   "cell_type": "code",
   "execution_count": 1,
   "metadata": {
    "collapsed": true
   },
   "outputs": [],
   "source": [
    "%matplotlib inline\n",
    "import pandas as pd\n",
    "import numpy as np\n",
    "import matplotlib\n",
    "import matplotlib.pyplot as plt\n",
    "import seaborn as sns\n",
    "sns.set()\n"
   ]
  },
  {
   "cell_type": "code",
   "execution_count": 2,
   "metadata": {
    "collapsed": true
   },
   "outputs": [],
   "source": [
    "def preprocess(dataset=None):\n",
    "    dataset['date'] =  pd.to_datetime(dataset['date'], format='%d.%m.%Y')\n",
    "    dataset = dataset.set_index(\"date\")\n",
    "    dataset = dataset.sort_index()\n",
    "    return dataset"
   ]
  },
  {
   "cell_type": "code",
   "execution_count": 3,
   "metadata": {
    "collapsed": true
   },
   "outputs": [],
   "source": [
    "def reduce_df(dataset=None):\n",
    "    reduced = dataset.groupby(['date_block_num', 'shop_id', 'item_id'])['item_cnt_day'].sum()\n",
    "    reduced = pd.DataFrame({\"shop_id\": reduced.index.get_level_values(1), \"item_id\": reduced.index.get_level_values(2), \"date_block_num\": reduced.index.get_level_values(0), \"item_cnt_month\": reduced.values}, index=pd.Index(range(reduced.shape[0])))\n",
    "    return reduced"
   ]
  },
  {
   "cell_type": "code",
   "execution_count": 4,
   "metadata": {
    "collapsed": true
   },
   "outputs": [],
   "source": [
    "def generate_stat_features(dataset=None):\n",
    "    no_items_mnt = dataset.groupby([\"shop_id\", \"date_block_num\"])[\"item_id\"].count().reset_index()\n",
    "    no_sold_item_mnt = dataset.groupby([\"shop_id\", \"date_block_num\"])[\"item_cnt_month\"].sum().reset_index()\n",
    "    stat1 = no_sold_item_mnt.groupby(\"shop_id\")[\"item_cnt_month\"].aggregate(['skew', 'min', 'max', 'mean', 'median', 'std', pd.DataFrame.kurt]).reset_index().add_prefix('shops/').fillna(0)\n",
    "    q75 = no_sold_item_mnt.groupby(\"shop_id\")[\"item_cnt_month\"].quantile(0.75)\n",
    "    q25 = no_sold_item_mnt.groupby(\"shop_id\")[\"item_cnt_month\"].quantile(0.25)\n",
    "    iqr = q75 - q25\n",
    "    iqr = pd.DataFrame({\"iqr\": iqr}).fillna(0)\n",
    "    stat_def = pd.merge(iqr, stat1, left_index=True, right_on=\"shops/shop_id\").drop(columns=[\"shops/shop_id\"])\n",
    "    no_sold_item_mnt = no_sold_item_mnt.rename(columns={'item_cnt_month': 'tot_items_month'})\n",
    "    merged = pd.merge(dataset, stat_def, left_on=\"shop_id\", right_index=True)\n",
    "    merged = pd.merge(merged, no_sold_item_mnt, left_on=[\"shop_id\", \"date_block_num\"], right_on=[\"shop_id\", \"date_block_num\"])\n",
    "    merged[\"item_perc_month\"] = merged.item_cnt_month / merged.tot_items_month\n",
    "    return merged"
   ]
  },
  {
   "cell_type": "code",
   "execution_count": 5,
   "metadata": {
    "collapsed": true
   },
   "outputs": [],
   "source": [
    "def generate_stat_features_items(dataset=None):\n",
    "    items_mnt = dataset.groupby([\"item_id\", \"date_block_num\"])[\"item_cnt_month\"].sum().reset_index()\n",
    "    items_mnt = items_mnt.rename(columns={\"item_cnt_month\": \"item_tot_sold_month\"})\n",
    "    items_tots = items_mnt.groupby(\"item_id\")[\"item_tot_sold_month\"].sum().reset_index().rename(columns={\"item_tot_sold_month\": \"item_tot_sold\"})\n",
    "    items_stats = items_mnt.groupby(\"item_id\")[\"item_tot_sold_month\"].aggregate(['skew', 'min', 'max', 'mean', 'median', 'std', pd.DataFrame.kurt]).reset_index().add_prefix('items/').fillna(0)\n",
    "    merged = pd.merge(items_mnt, items_stats, left_on='item_id', right_on='items/item_id').drop(columns=['items/item_id'])\n",
    "    merged = pd.merge(merged, items_tots, left_on='item_id', right_on='item_id')\n",
    "    merged = pd.merge(merged, dataset, left_on=[\"item_id\", \"date_block_num\"], right_on=[\"item_id\", \"date_block_num\"])\n",
    "    return merged"
   ]
  },
  {
   "cell_type": "code",
   "execution_count": 147,
   "metadata": {},
   "outputs": [],
   "source": [
    "def process_dataset(dataset=None):\n",
    "    sales_train_red = preprocess(dataset=dataset)\n",
    "    prices = pd.DataFrame({\"item_price\": dataset['item_price']}, index=dataset.index)\n",
    "    reduced = reduce_df(dataset=sales_train_red)\n",
    "    stat1 = generate_stat_features(dataset=reduced)\n",
    "    stat2 = generate_stat_features_items(dataset=stat1)\n",
    "    merged = pd.merge(stat2, prices, left_on=\"item_id\", right_index=True)\n",
    "    y = merged['item_cnt_month']\n",
    "    merged = merged.drop(columns=['item_cnt_month'])\n",
    "    return merged.sort_values(by=['date_block_num']), y#.clip(0, 20)"
   ]
  },
  {
   "cell_type": "code",
   "execution_count": 163,
   "metadata": {
    "collapsed": true
   },
   "outputs": [],
   "source": [
    "def remove_outliers(dataset=None, target=None, no_items_threshold=np.inf):\n",
    "    ind = target[target<no_items_threshold].index\n",
    "    return dataset.loc[ind], target[target<no_items_threshold]   "
   ]
  },
  {
   "cell_type": "code",
   "execution_count": 148,
   "metadata": {
    "collapsed": true
   },
   "outputs": [],
   "source": [
    "sales_train = pd.read_csv(\"sales_train.csv\")"
   ]
  },
  {
   "cell_type": "code",
   "execution_count": 149,
   "metadata": {},
   "outputs": [
    {
     "data": {
      "text/html": [
       "<div>\n",
       "<style scoped>\n",
       "    .dataframe tbody tr th:only-of-type {\n",
       "        vertical-align: middle;\n",
       "    }\n",
       "\n",
       "    .dataframe tbody tr th {\n",
       "        vertical-align: top;\n",
       "    }\n",
       "\n",
       "    .dataframe thead th {\n",
       "        text-align: right;\n",
       "    }\n",
       "</style>\n",
       "<table border=\"1\" class=\"dataframe\">\n",
       "  <thead>\n",
       "    <tr style=\"text-align: right;\">\n",
       "      <th></th>\n",
       "      <th>date</th>\n",
       "      <th>date_block_num</th>\n",
       "      <th>shop_id</th>\n",
       "      <th>item_id</th>\n",
       "      <th>item_price</th>\n",
       "      <th>item_cnt_day</th>\n",
       "    </tr>\n",
       "  </thead>\n",
       "  <tbody>\n",
       "    <tr>\n",
       "      <th>0</th>\n",
       "      <td>02.01.2013</td>\n",
       "      <td>0</td>\n",
       "      <td>59</td>\n",
       "      <td>22154</td>\n",
       "      <td>999.00</td>\n",
       "      <td>1.0</td>\n",
       "    </tr>\n",
       "    <tr>\n",
       "      <th>1</th>\n",
       "      <td>03.01.2013</td>\n",
       "      <td>0</td>\n",
       "      <td>25</td>\n",
       "      <td>2552</td>\n",
       "      <td>899.00</td>\n",
       "      <td>1.0</td>\n",
       "    </tr>\n",
       "    <tr>\n",
       "      <th>2</th>\n",
       "      <td>05.01.2013</td>\n",
       "      <td>0</td>\n",
       "      <td>25</td>\n",
       "      <td>2552</td>\n",
       "      <td>899.00</td>\n",
       "      <td>-1.0</td>\n",
       "    </tr>\n",
       "    <tr>\n",
       "      <th>3</th>\n",
       "      <td>06.01.2013</td>\n",
       "      <td>0</td>\n",
       "      <td>25</td>\n",
       "      <td>2554</td>\n",
       "      <td>1709.05</td>\n",
       "      <td>1.0</td>\n",
       "    </tr>\n",
       "    <tr>\n",
       "      <th>4</th>\n",
       "      <td>15.01.2013</td>\n",
       "      <td>0</td>\n",
       "      <td>25</td>\n",
       "      <td>2555</td>\n",
       "      <td>1099.00</td>\n",
       "      <td>1.0</td>\n",
       "    </tr>\n",
       "  </tbody>\n",
       "</table>\n",
       "</div>"
      ],
      "text/plain": [
       "         date  date_block_num  shop_id  item_id  item_price  item_cnt_day\n",
       "0  02.01.2013               0       59    22154      999.00           1.0\n",
       "1  03.01.2013               0       25     2552      899.00           1.0\n",
       "2  05.01.2013               0       25     2552      899.00          -1.0\n",
       "3  06.01.2013               0       25     2554     1709.05           1.0\n",
       "4  15.01.2013               0       25     2555     1099.00           1.0"
      ]
     },
     "execution_count": 149,
     "metadata": {},
     "output_type": "execute_result"
    }
   ],
   "source": [
    "sales_train.head()"
   ]
  },
  {
   "cell_type": "code",
   "execution_count": 150,
   "metadata": {
    "collapsed": true
   },
   "outputs": [],
   "source": [
    "train, y_target = process_dataset(dataset=sales_train)"
   ]
  },
  {
   "cell_type": "code",
   "execution_count": 164,
   "metadata": {
    "collapsed": true
   },
   "outputs": [],
   "source": [
    "train, y_target = remove_outliers(dataset=train, target=y_target, no_items_threshold=1000)"
   ]
  },
  {
   "cell_type": "code",
   "execution_count": 168,
   "metadata": {},
   "outputs": [
    {
     "data": {
      "text/plain": [
       "((1609113, 23), (1609113,), 997.0)"
      ]
     },
     "execution_count": 168,
     "metadata": {},
     "output_type": "execute_result"
    }
   ],
   "source": [
    "train.shape, y_target.shape, y_target.max()"
   ]
  },
  {
   "cell_type": "code",
   "execution_count": 169,
   "metadata": {},
   "outputs": [
    {
     "data": {
      "text/html": [
       "<div>\n",
       "<style scoped>\n",
       "    .dataframe tbody tr th:only-of-type {\n",
       "        vertical-align: middle;\n",
       "    }\n",
       "\n",
       "    .dataframe tbody tr th {\n",
       "        vertical-align: top;\n",
       "    }\n",
       "\n",
       "    .dataframe thead th {\n",
       "        text-align: right;\n",
       "    }\n",
       "</style>\n",
       "<table border=\"1\" class=\"dataframe\">\n",
       "  <thead>\n",
       "    <tr style=\"text-align: right;\">\n",
       "      <th></th>\n",
       "      <th>date_block_num</th>\n",
       "      <th>shop_id</th>\n",
       "      <th>item_id</th>\n",
       "      <th>item_price</th>\n",
       "    </tr>\n",
       "  </thead>\n",
       "  <tbody>\n",
       "    <tr>\n",
       "      <th>0</th>\n",
       "      <td>20</td>\n",
       "      <td>54</td>\n",
       "      <td>0</td>\n",
       "      <td>999.0</td>\n",
       "    </tr>\n",
       "    <tr>\n",
       "      <th>1</th>\n",
       "      <td>15</td>\n",
       "      <td>55</td>\n",
       "      <td>1</td>\n",
       "      <td>899.0</td>\n",
       "    </tr>\n",
       "    <tr>\n",
       "      <th>2</th>\n",
       "      <td>18</td>\n",
       "      <td>55</td>\n",
       "      <td>1</td>\n",
       "      <td>899.0</td>\n",
       "    </tr>\n",
       "    <tr>\n",
       "      <th>3</th>\n",
       "      <td>19</td>\n",
       "      <td>55</td>\n",
       "      <td>1</td>\n",
       "      <td>899.0</td>\n",
       "    </tr>\n",
       "    <tr>\n",
       "      <th>4</th>\n",
       "      <td>20</td>\n",
       "      <td>55</td>\n",
       "      <td>1</td>\n",
       "      <td>899.0</td>\n",
       "    </tr>\n",
       "  </tbody>\n",
       "</table>\n",
       "</div>"
      ],
      "text/plain": [
       "   date_block_num  shop_id  item_id  item_price\n",
       "0              20       54        0       999.0\n",
       "1              15       55        1       899.0\n",
       "2              18       55        1       899.0\n",
       "3              19       55        1       899.0\n",
       "4              20       55        1       899.0"
      ]
     },
     "execution_count": 169,
     "metadata": {},
     "output_type": "execute_result"
    }
   ],
   "source": [
    "train[['date_block_num', 'shop_id', 'item_id', 'item_price']].head()"
   ]
  },
  {
   "cell_type": "code",
   "execution_count": 170,
   "metadata": {},
   "outputs": [
    {
     "name": "stdout",
     "output_type": "stream",
     "text": [
      "60 shops selling 21807 items\n"
     ]
    }
   ],
   "source": [
    "no_shops = sales_train.shop_id.unique().shape[0]\n",
    "no_items = sales_train.item_id.unique().shape[0]\n",
    "print(\"{} shops selling {} items\".format(no_shops, no_items))"
   ]
  },
  {
   "cell_type": "code",
   "execution_count": 171,
   "metadata": {},
   "outputs": [],
   "source": [
    "sales_per_month = sales_train.groupby(\"date_block_num\")[\"item_cnt_day\"].sum()"
   ]
  },
  {
   "cell_type": "code",
   "execution_count": 172,
   "metadata": {},
   "outputs": [
    {
     "data": {
      "text/plain": [
       "[<matplotlib.lines.Line2D at 0x11ee64550>]"
      ]
     },
     "execution_count": 172,
     "metadata": {},
     "output_type": "execute_result"
    },
    {
     "data": {
      "image/png": "[encoded data removed]",
      "text/plain": [
       "<Figure size 432x288 with 1 Axes>"
      ]
     },
     "metadata": {
      "needs_background": "light"
     },
     "output_type": "display_data"
    }
   ],
   "source": [
    "plt.plot(sales_per_month.index.values, sales_per_month.values)\n",
    "plt.plot(sales_per_month.index.values, np.log(sales_per_month.values))"
   ]
  },
  {
   "cell_type": "code",
   "execution_count": 173,
   "metadata": {},
   "outputs": [
    {
     "data": {
      "text/plain": [
       "Index(['item_id', 'date_block_num', 'item_tot_sold_month', 'items/skew',\n",
       "       'items/min', 'items/max', 'items/mean', 'items/median', 'items/std',\n",
       "       'items/kurt', 'item_tot_sold', 'shop_id', 'iqr', 'shops/skew',\n",
       "       'shops/min', 'shops/max', 'shops/mean', 'shops/median', 'shops/std',\n",
       "       'shops/kurt', 'tot_items_month', 'item_perc_month', 'item_price'],\n",
       "      dtype='object')"
      ]
     },
     "execution_count": 173,
     "metadata": {},
     "output_type": "execute_result"
    }
   ],
   "source": [
    "train.columns"
   ]
  },
  {
   "cell_type": "code",
   "execution_count": 174,
   "metadata": {
    "collapsed": true
   },
   "outputs": [],
   "source": [
    "num_col = ['date_block_num', 'item_tot_sold_month', 'items/skew',\n",
    "       'items/min', 'items/max', 'items/mean', 'items/median', 'items/std',\n",
    "       'items/kurt', 'item_tot_sold', 'iqr', 'shops/skew',\n",
    "       'shops/min', 'shops/max', 'shops/mean', 'shops/median', 'shops/std',\n",
    "       'shops/kurt', 'tot_items_month', 'item_perc_month', 'item_price']\n",
    "cat_col = ['item_id', 'shop_id']"
   ]
  },
  {
   "cell_type": "code",
   "execution_count": 175,
   "metadata": {},
   "outputs": [
    {
     "data": {
      "text/plain": [
       "[<matplotlib.lines.Line2D at 0x12f2545c0>]"
      ]
     },
     "execution_count": 175,
     "metadata": {},
     "output_type": "execute_result"
    },
    {
     "data": {
      "image/png": "[encoded data removed]",
      "text/plain": [
       "<Figure size 432x288 with 1 Axes>"
      ]
     },
     "metadata": {
      "needs_background": "light"
     },
     "output_type": "display_data"
    }
   ],
   "source": [
    "plt.plot(y_target, [1 for _ in range(0, y_target.shape[0])], 'o')"
   ]
  },
  {
   "cell_type": "code",
   "execution_count": null,
   "metadata": {
    "collapsed": true
   },
   "outputs": [],
   "source": []
  },
  {
   "cell_type": "code",
   "execution_count": 176,
   "metadata": {},
   "outputs": [],
   "source": [
    "from sklearn.preprocessing import OneHotEncoder\n",
    "from sklearn.pipeline import Pipeline, FeatureUnion\n",
    "from sklearn import base"
   ]
  },
  {
   "cell_type": "code",
   "execution_count": 177,
   "metadata": {
    "collapsed": true
   },
   "outputs": [],
   "source": [
    "class ColumnSelectTransformer(base.BaseEstimator, base.TransformerMixin):\n",
    "    \n",
    "    def __init__(self, col_names, to_array=False):\n",
    "        self.col_names = col_names  # We will need these in transform()\n",
    "        self.to_array = to_array\n",
    "    \n",
    "    def fit(self, X, y=None):\n",
    "        # This transformer doesn't need to learn anything about the data,\n",
    "        # so it can just return self without any further processing\n",
    "        return self\n",
    "    \n",
    "    def transform(self, X):\n",
    "        # Return an array with the same number of rows as X and one\n",
    "        # column for each in self.col_names\n",
    "        if self.to_array:\n",
    "            return X[self.col_names].values\n",
    "        else:\n",
    "            return X[self.col_names]"
   ]
  },
  {
   "cell_type": "code",
   "execution_count": 178,
   "metadata": {
    "collapsed": true
   },
   "outputs": [],
   "source": [
    "pipe_cat = Pipeline([\n",
    "    (\"col\", ColumnSelectTransformer(cat_col)),\n",
    "    (\"enc\", OneHotEncoder())\n",
    "])\n",
    "\n",
    "pipe_num = Pipeline([\n",
    "    (\"col\", ColumnSelectTransformer(num_col, to_array=True)),\n",
    "])\n",
    "union = FeatureUnion([\n",
    "        (\"cat\", pipe_cat),\n",
    "        (\"num\", pipe_num)\n",
    "    ])"
   ]
  },
  {
   "cell_type": "code",
   "execution_count": 179,
   "metadata": {},
   "outputs": [
    {
     "name": "stderr",
     "output_type": "stream",
     "text": [
      "/anaconda/envs/jupyter-py3/lib/python3.7/site-packages/sklearn/preprocessing/_encoders.py:363: FutureWarning: The handling of integer data will change in version 0.22. Currently, the categories are determined based on the range [0, max(values)], while in the future they will be determined based on the unique values.\n",
      "If you want the future behaviour and silence this warning, you can specify \"categories='auto'\".\n",
      "In case you used a LabelEncoder before this OneHotEncoder to convert the categories to integers, then you can now use the OneHotEncoder directly.\n",
      "  warnings.warn(msg, FutureWarning)\n"
     ]
    },
    {
     "data": {
      "text/plain": [
       "(10, 27)"
      ]
     },
     "execution_count": 179,
     "metadata": {},
     "output_type": "execute_result"
    }
   ],
   "source": [
    "#test\n",
    "union.fit_transform(train.iloc[0:10]).todense().shape"
   ]
  },
  {
   "cell_type": "code",
   "execution_count": 180,
   "metadata": {},
   "outputs": [
    {
     "data": {
      "text/plain": [
       "(1609113, 23)"
      ]
     },
     "execution_count": 180,
     "metadata": {},
     "output_type": "execute_result"
    }
   ],
   "source": [
    "train.shape"
   ]
  },
  {
   "cell_type": "code",
   "execution_count": 181,
   "metadata": {
    "collapsed": true
   },
   "outputs": [],
   "source": [
    "from sklearn.model_selection import TimeSeriesSplit, GridSearchCV\n",
    "from sklearn.ensemble import RandomForestRegressor"
   ]
  },
  {
   "cell_type": "code",
   "execution_count": 182,
   "metadata": {
    "collapsed": true
   },
   "outputs": [],
   "source": [
    "rg = RandomForestRegressor()"
   ]
  },
  {
   "cell_type": "code",
   "execution_count": 183,
   "metadata": {
    "collapsed": true
   },
   "outputs": [],
   "source": [
    "pipe_def = Pipeline([('union', union), ('reg', rg)])"
   ]
  },
  {
   "cell_type": "code",
   "execution_count": 184,
   "metadata": {},
   "outputs": [],
   "source": [
    "ts = TimeSeriesSplit(n_splits=3)"
   ]
  },
  {
   "cell_type": "code",
   "execution_count": 185,
   "metadata": {
    "collapsed": true
   },
   "outputs": [],
   "source": [
    "grid_search = GridSearchCV(pipe_def, cv=ts, param_grid={'reg__n_estimators': [30], \"reg__max_features\": [0.5, 0.6, 0.8]}, verbose=3)"
   ]
  },
  {
   "cell_type": "code",
   "execution_count": null,
   "metadata": {},
   "outputs": [
    {
     "name": "stdout",
     "output_type": "stream",
     "text": [
      "Fitting 3 folds for each of 3 candidates, totalling 9 fits\n",
      "[CV] reg__max_features=0.5, reg__n_estimators=30 .....................\n"
     ]
    }
   ],
   "source": [
    "grid_search.fit(train, y_target)"
   ]
  },
  {
   "cell_type": "code",
   "execution_count": 186,
   "metadata": {
    "collapsed": true
   },
   "outputs": [],
   "source": [
    "rg = RandomForestRegressor(max_features=0.7, n_estimators=40, n_jobs=-1)\n",
    "pipe_def = Pipeline([('union', union), ('reg', rg)])"
   ]
  },
  {
   "cell_type": "code",
   "execution_count": 187,
   "metadata": {},
   "outputs": [
    {
     "data": {
      "text/plain": [
       "(1577583, 23)"
      ]
     },
     "execution_count": 187,
     "metadata": {},
     "output_type": "execute_result"
    }
   ],
   "source": [
    "train[train.date_block_num != 33].shape"
   ]
  },
  {
   "cell_type": "code",
   "execution_count": 188,
   "metadata": {},
   "outputs": [
    {
     "data": {
      "text/plain": [
       "(1577583,)"
      ]
     },
     "execution_count": 188,
     "metadata": {},
     "output_type": "execute_result"
    }
   ],
   "source": [
    "y_target.loc[train[train.date_block_num != 33].index].shape"
   ]
  },
  {
   "cell_type": "code",
   "execution_count": 189,
   "metadata": {},
   "outputs": [
    {
     "name": "stderr",
     "output_type": "stream",
     "text": [
      "/anaconda/envs/jupyter-py3/lib/python3.7/site-packages/sklearn/preprocessing/_encoders.py:363: FutureWarning: The handling of integer data will change in version 0.22. Currently, the categories are determined based on the range [0, max(values)], while in the future they will be determined based on the unique values.\n",
      "If you want the future behaviour and silence this warning, you can specify \"categories='auto'\".\n",
      "In case you used a LabelEncoder before this OneHotEncoder to convert the categories to integers, then you can now use the OneHotEncoder directly.\n",
      "  warnings.warn(msg, FutureWarning)\n"
     ]
    },
    {
     "data": {
      "text/plain": [
       "Pipeline(memory=None,\n",
       "     steps=[('union', FeatureUnion(n_jobs=None,\n",
       "       transformer_list=[('cat', Pipeline(memory=None,\n",
       "     steps=[('col', ColumnSelectTransformer(col_names=['item_id', 'shop_id'], to_array=False)), ('enc', OneHotEncoder(categorical_features=None, categories=None,\n",
       "       dtype=<class 'numpy.float64'>, ha...imators=40, n_jobs=-1,\n",
       "           oob_score=False, random_state=None, verbose=0, warm_start=False))])"
      ]
     },
     "execution_count": 189,
     "metadata": {},
     "output_type": "execute_result"
    }
   ],
   "source": [
    "pipe_def.fit(train[train.date_block_num != 33], y_target.loc[train[train.date_block_num != 33].index])"
   ]
  },
  {
   "cell_type": "code",
   "execution_count": 192,
   "metadata": {},
   "outputs": [],
   "source": [
    "y_true = y_target.loc[train[train.date_block_num == 33].index]\n",
    "y_pred = pipe_def.predict(train[train.date_block_num == 33])"
   ]
  },
  {
   "cell_type": "code",
   "execution_count": 193,
   "metadata": {},
   "outputs": [
    {
     "name": "stdout",
     "output_type": "stream",
     "text": [
      "Mean squared error 0.350890167671416\n"
     ]
    }
   ],
   "source": [
    "from sklearn.metrics import mean_squared_error\n",
    "print(\"Mean squared error {}\".format(np.sqrt(mean_squared_error(y_true, y_pred))))"
   ]
  },
  {
   "cell_type": "code",
   "execution_count": null,
   "metadata": {
    "collapsed": true
   },
   "outputs": [],
   "source": []
  },
  {
   "cell_type": "code",
   "execution_count": 194,
   "metadata": {},
   "outputs": [],
   "source": [
    "sales_test = pd.read_csv(\"test.csv\")"
   ]
  },
  {
   "cell_type": "code",
   "execution_count": 195,
   "metadata": {},
   "outputs": [
    {
     "data": {
      "text/html": [
       "<div>\n",
       "<style scoped>\n",
       "    .dataframe tbody tr th:only-of-type {\n",
       "        vertical-align: middle;\n",
       "    }\n",
       "\n",
       "    .dataframe tbody tr th {\n",
       "        vertical-align: top;\n",
       "    }\n",
       "\n",
       "    .dataframe thead th {\n",
       "        text-align: right;\n",
       "    }\n",
       "</style>\n",
       "<table border=\"1\" class=\"dataframe\">\n",
       "  <thead>\n",
       "    <tr style=\"text-align: right;\">\n",
       "      <th></th>\n",
       "      <th>ID</th>\n",
       "      <th>shop_id</th>\n",
       "      <th>item_id</th>\n",
       "    </tr>\n",
       "  </thead>\n",
       "  <tbody>\n",
       "    <tr>\n",
       "      <th>0</th>\n",
       "      <td>0</td>\n",
       "      <td>5</td>\n",
       "      <td>5037</td>\n",
       "    </tr>\n",
       "    <tr>\n",
       "      <th>1</th>\n",
       "      <td>1</td>\n",
       "      <td>5</td>\n",
       "      <td>5320</td>\n",
       "    </tr>\n",
       "    <tr>\n",
       "      <th>2</th>\n",
       "      <td>2</td>\n",
       "      <td>5</td>\n",
       "      <td>5233</td>\n",
       "    </tr>\n",
       "    <tr>\n",
       "      <th>3</th>\n",
       "      <td>3</td>\n",
       "      <td>5</td>\n",
       "      <td>5232</td>\n",
       "    </tr>\n",
       "    <tr>\n",
       "      <th>4</th>\n",
       "      <td>4</td>\n",
       "      <td>5</td>\n",
       "      <td>5268</td>\n",
       "    </tr>\n",
       "  </tbody>\n",
       "</table>\n",
       "</div>"
      ],
      "text/plain": [
       "   ID  shop_id  item_id\n",
       "0   0        5     5037\n",
       "1   1        5     5320\n",
       "2   2        5     5233\n",
       "3   3        5     5232\n",
       "4   4        5     5268"
      ]
     },
     "execution_count": 195,
     "metadata": {},
     "output_type": "execute_result"
    }
   ],
   "source": [
    "sales_test.head()"
   ]
  },
  {
   "cell_type": "code",
   "execution_count": 196,
   "metadata": {},
   "outputs": [
    {
     "name": "stdout",
     "output_type": "stream",
     "text": [
      "42 shops selling 5100 items\n"
     ]
    }
   ],
   "source": [
    "no_shops = sales_test.shop_id.unique().shape[0]\n",
    "no_items = sales_test.item_id.unique().shape[0]\n",
    "print(\"{} shops selling {} items\".format(no_shops, no_items))"
   ]
  },
  {
   "cell_type": "code",
   "execution_count": 197,
   "metadata": {
    "collapsed": true
   },
   "outputs": [],
   "source": [
    "sales_test[\"date_block_num\"] = 34"
   ]
  },
  {
   "cell_type": "code",
   "execution_count": 198,
   "metadata": {
    "collapsed": true
   },
   "outputs": [],
   "source": [
    "sales_test = pd.merge(sales_test, train[['item_tot_sold_month', 'items/skew',\n",
    "       'items/min', 'items/max', 'items/mean', 'items/median', 'items/std',\n",
    "       'items/kurt', 'item_tot_sold', 'iqr', 'shops/skew',\n",
    "       'shops/min', 'shops/max', 'shops/mean', 'shops/median', 'shops/std',\n",
    "       'shops/kurt', 'tot_items_month', 'item_perc_month', 'item_price', 'item_id', 'shop_id']], left_on=['item_id', 'shop_id'], right_on=['item_id', 'shop_id'])"
   ]
  },
  {
   "cell_type": "code",
   "execution_count": 199,
   "metadata": {},
   "outputs": [
    {
     "data": {
      "text/html": [
       "<div>\n",
       "<style scoped>\n",
       "    .dataframe tbody tr th:only-of-type {\n",
       "        vertical-align: middle;\n",
       "    }\n",
       "\n",
       "    .dataframe tbody tr th {\n",
       "        vertical-align: top;\n",
       "    }\n",
       "\n",
       "    .dataframe thead th {\n",
       "        text-align: right;\n",
       "    }\n",
       "</style>\n",
       "<table border=\"1\" class=\"dataframe\">\n",
       "  <thead>\n",
       "    <tr style=\"text-align: right;\">\n",
       "      <th></th>\n",
       "      <th>ID</th>\n",
       "      <th>shop_id</th>\n",
       "      <th>item_id</th>\n",
       "      <th>date_block_num</th>\n",
       "      <th>item_tot_sold_month</th>\n",
       "      <th>items/skew</th>\n",
       "      <th>items/min</th>\n",
       "      <th>items/max</th>\n",
       "      <th>items/mean</th>\n",
       "      <th>items/median</th>\n",
       "      <th>...</th>\n",
       "      <th>shops/skew</th>\n",
       "      <th>shops/min</th>\n",
       "      <th>shops/max</th>\n",
       "      <th>shops/mean</th>\n",
       "      <th>shops/median</th>\n",
       "      <th>shops/std</th>\n",
       "      <th>shops/kurt</th>\n",
       "      <th>tot_items_month</th>\n",
       "      <th>item_perc_month</th>\n",
       "      <th>item_price</th>\n",
       "    </tr>\n",
       "  </thead>\n",
       "  <tbody>\n",
       "    <tr>\n",
       "      <th>0</th>\n",
       "      <td>0</td>\n",
       "      <td>5</td>\n",
       "      <td>5037</td>\n",
       "      <td>34</td>\n",
       "      <td>209.0</td>\n",
       "      <td>1.199427</td>\n",
       "      <td>25.0</td>\n",
       "      <td>233.0</td>\n",
       "      <td>90.714286</td>\n",
       "      <td>76.0</td>\n",
       "      <td>...</td>\n",
       "      <td>1.549025</td>\n",
       "      <td>877.0</td>\n",
       "      <td>2223.0</td>\n",
       "      <td>1295.818182</td>\n",
       "      <td>1267.0</td>\n",
       "      <td>294.292526</td>\n",
       "      <td>3.331571</td>\n",
       "      <td>1355.0</td>\n",
       "      <td>0.000738</td>\n",
       "      <td>399.0</td>\n",
       "    </tr>\n",
       "    <tr>\n",
       "      <th>1</th>\n",
       "      <td>0</td>\n",
       "      <td>5</td>\n",
       "      <td>5037</td>\n",
       "      <td>34</td>\n",
       "      <td>65.0</td>\n",
       "      <td>1.199427</td>\n",
       "      <td>25.0</td>\n",
       "      <td>233.0</td>\n",
       "      <td>90.714286</td>\n",
       "      <td>76.0</td>\n",
       "      <td>...</td>\n",
       "      <td>1.549025</td>\n",
       "      <td>877.0</td>\n",
       "      <td>2223.0</td>\n",
       "      <td>1295.818182</td>\n",
       "      <td>1267.0</td>\n",
       "      <td>294.292526</td>\n",
       "      <td>3.331571</td>\n",
       "      <td>1445.0</td>\n",
       "      <td>0.000692</td>\n",
       "      <td>399.0</td>\n",
       "    </tr>\n",
       "    <tr>\n",
       "      <th>2</th>\n",
       "      <td>0</td>\n",
       "      <td>5</td>\n",
       "      <td>5037</td>\n",
       "      <td>34</td>\n",
       "      <td>233.0</td>\n",
       "      <td>1.199427</td>\n",
       "      <td>25.0</td>\n",
       "      <td>233.0</td>\n",
       "      <td>90.714286</td>\n",
       "      <td>76.0</td>\n",
       "      <td>...</td>\n",
       "      <td>1.549025</td>\n",
       "      <td>877.0</td>\n",
       "      <td>2223.0</td>\n",
       "      <td>1295.818182</td>\n",
       "      <td>1267.0</td>\n",
       "      <td>294.292526</td>\n",
       "      <td>3.331571</td>\n",
       "      <td>2127.0</td>\n",
       "      <td>0.000940</td>\n",
       "      <td>399.0</td>\n",
       "    </tr>\n",
       "    <tr>\n",
       "      <th>3</th>\n",
       "      <td>0</td>\n",
       "      <td>5</td>\n",
       "      <td>5037</td>\n",
       "      <td>34</td>\n",
       "      <td>108.0</td>\n",
       "      <td>1.199427</td>\n",
       "      <td>25.0</td>\n",
       "      <td>233.0</td>\n",
       "      <td>90.714286</td>\n",
       "      <td>76.0</td>\n",
       "      <td>...</td>\n",
       "      <td>1.549025</td>\n",
       "      <td>877.0</td>\n",
       "      <td>2223.0</td>\n",
       "      <td>1295.818182</td>\n",
       "      <td>1267.0</td>\n",
       "      <td>294.292526</td>\n",
       "      <td>3.331571</td>\n",
       "      <td>1404.0</td>\n",
       "      <td>0.001425</td>\n",
       "      <td>399.0</td>\n",
       "    </tr>\n",
       "    <tr>\n",
       "      <th>4</th>\n",
       "      <td>0</td>\n",
       "      <td>5</td>\n",
       "      <td>5037</td>\n",
       "      <td>34</td>\n",
       "      <td>87.0</td>\n",
       "      <td>1.199427</td>\n",
       "      <td>25.0</td>\n",
       "      <td>233.0</td>\n",
       "      <td>90.714286</td>\n",
       "      <td>76.0</td>\n",
       "      <td>...</td>\n",
       "      <td>1.549025</td>\n",
       "      <td>877.0</td>\n",
       "      <td>2223.0</td>\n",
       "      <td>1295.818182</td>\n",
       "      <td>1267.0</td>\n",
       "      <td>294.292526</td>\n",
       "      <td>3.331571</td>\n",
       "      <td>1012.0</td>\n",
       "      <td>0.000988</td>\n",
       "      <td>399.0</td>\n",
       "    </tr>\n",
       "  </tbody>\n",
       "</table>\n",
       "<p>5 rows × 24 columns</p>\n",
       "</div>"
      ],
      "text/plain": [
       "   ID  shop_id  item_id  date_block_num  item_tot_sold_month  items/skew  \\\n",
       "0   0        5     5037              34                209.0    1.199427   \n",
       "1   0        5     5037              34                 65.0    1.199427   \n",
       "2   0        5     5037              34                233.0    1.199427   \n",
       "3   0        5     5037              34                108.0    1.199427   \n",
       "4   0        5     5037              34                 87.0    1.199427   \n",
       "\n",
       "   items/min  items/max  items/mean  items/median     ...      shops/skew  \\\n",
       "0       25.0      233.0   90.714286          76.0     ...        1.549025   \n",
       "1       25.0      233.0   90.714286          76.0     ...        1.549025   \n",
       "2       25.0      233.0   90.714286          76.0     ...        1.549025   \n",
       "3       25.0      233.0   90.714286          76.0     ...        1.549025   \n",
       "4       25.0      233.0   90.714286          76.0     ...        1.549025   \n",
       "\n",
       "   shops/min  shops/max   shops/mean  shops/median   shops/std  shops/kurt  \\\n",
       "0      877.0     2223.0  1295.818182        1267.0  294.292526    3.331571   \n",
       "1      877.0     2223.0  1295.818182        1267.0  294.292526    3.331571   \n",
       "2      877.0     2223.0  1295.818182        1267.0  294.292526    3.331571   \n",
       "3      877.0     2223.0  1295.818182        1267.0  294.292526    3.331571   \n",
       "4      877.0     2223.0  1295.818182        1267.0  294.292526    3.331571   \n",
       "\n",
       "   tot_items_month  item_perc_month  item_price  \n",
       "0           1355.0         0.000738       399.0  \n",
       "1           1445.0         0.000692       399.0  \n",
       "2           2127.0         0.000940       399.0  \n",
       "3           1404.0         0.001425       399.0  \n",
       "4           1012.0         0.000988       399.0  \n",
       "\n",
       "[5 rows x 24 columns]"
      ]
     },
     "execution_count": 199,
     "metadata": {},
     "output_type": "execute_result"
    }
   ],
   "source": [
    "sales_test.head()"
   ]
  },
  {
   "cell_type": "code",
   "execution_count": 200,
   "metadata": {},
   "outputs": [],
   "source": [
    "y_pred_test = pipe_def.predict(sales_test.drop(columns=['ID']))"
   ]
  },
  {
   "cell_type": "code",
   "execution_count": 202,
   "metadata": {},
   "outputs": [
    {
     "data": {
      "text/plain": [
       "((214200,), 960.325)"
      ]
     },
     "execution_count": 202,
     "metadata": {},
     "output_type": "execute_result"
    }
   ],
   "source": [
    "y_pred_test[0:214200].shape, y_pred_test[0:214200].max()"
   ]
  },
  {
   "cell_type": "code",
   "execution_count": 203,
   "metadata": {
    "collapsed": true
   },
   "outputs": [],
   "source": [
    "submit_df = pd.read_csv(\"sample_submission.csv\")"
   ]
  },
  {
   "cell_type": "code",
   "execution_count": 204,
   "metadata": {},
   "outputs": [
    {
     "data": {
      "text/plain": [
       "(214200, 2)"
      ]
     },
     "execution_count": 204,
     "metadata": {},
     "output_type": "execute_result"
    }
   ],
   "source": [
    "submit_df.shape"
   ]
  },
  {
   "cell_type": "code",
   "execution_count": 205,
   "metadata": {},
   "outputs": [],
   "source": [
    "submit_df['item_cnt_month'] = y_pred_test[0:214200].clip(0, 20)"
   ]
  },
  {
   "cell_type": "code",
   "execution_count": 206,
   "metadata": {},
   "outputs": [],
   "source": [
    "submit_df.to_csv('submit_new1.csv', index=False)"
   ]
  },
  {
   "cell_type": "code",
   "execution_count": 207,
   "metadata": {},
   "outputs": [
    {
     "data": {
      "text/plain": [
       "(21412,)"
      ]
     },
     "execution_count": 207,
     "metadata": {},
     "output_type": "execute_result"
    }
   ],
   "source": [
    "pipe_def.get_params()['steps'][1][1].feature_importances_.shape"
   ]
  },
  {
   "cell_type": "code",
   "execution_count": null,
   "metadata": {
    "collapsed": true
   },
   "outputs": [],
   "source": []
  }
 ],
 "metadata": {
  "kernelspec": {
   "display_name": "Python 3 (jupyter-py3)",
   "language": "python",
   "name": "jupyter-py3"
  },
  "language_info": {
   "codemirror_mode": {
    "name": "ipython",
    "version": 3
   },
   "file_extension": ".py",
   "mimetype": "text/x-python",
   "name": "python",
   "nbconvert_exporter": "python",
   "pygments_lexer": "ipython3",
   "version": "3.7.1"
  }
 },
 "nbformat": 4,
 "nbformat_minor": 2
}
